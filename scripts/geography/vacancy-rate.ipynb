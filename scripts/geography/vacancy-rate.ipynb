{
 "cells": [
  {
   "cell_type": "code",
   "execution_count": 39,
   "id": "initial_id",
   "metadata": {
    "collapsed": true
   },
   "outputs": [],
   "source": [
    "import pandas as pd\n",
    "import matplotlib.pyplot as plt"
   ]
  },
  {
   "cell_type": "code",
   "execution_count": 21,
   "id": "1ffdaf35",
   "metadata": {},
   "outputs": [
    {
     "name": "stderr",
     "output_type": "stream",
     "text": [
      "C:\\Users\\vadla\\AppData\\Local\\Temp\\ipykernel_11864\\992781655.py:2: DtypeWarning: Columns (1) have mixed types. Specify dtype option on import or set low_memory=False.\n",
      "  df = pd.read_csv(\"C:\\Programming\\Django\\Vacancies.csv\", parse_dates=['published_at'])\n"
     ]
    }
   ],
   "source": [
    "# Загрузка данных из CSV-файла\n",
    "df = pd.read_csv(\"C:\\Programming\\Django\\Vacancies.csv\", parse_dates=['published_at'])"
   ]
  },
  {
   "cell_type": "code",
   "execution_count": 45,
   "id": "181c494e",
   "metadata": {},
   "outputs": [],
   "source": [
    "# Преобразование даты публикации в формат datetime\n",
    "vacancies_per_city = df['area_name'].value_counts()"
   ]
  },
  {
   "cell_type": "code",
   "execution_count": 51,
   "id": "2d6a0a50",
   "metadata": {},
   "outputs": [],
   "source": [
    "# Извлечение года из даты публикации\n",
    "vacancies_per_city_ratio = vacancies_per_city / vacancies_per_city.sum()"
   ]
  },
  {
   "cell_type": "code",
   "execution_count": 55,
   "id": "be369098",
   "metadata": {},
   "outputs": [
    {
     "name": "stdout",
     "output_type": "stream",
     "text": [
      "                 count\n",
      "area_name             \n",
      "Москва           0.333\n",
      "Санкт-Петербург  0.102\n",
      "Минск            0.037\n",
      "Новосибирск      0.024\n",
      "Киев             0.022\n",
      "...                ...\n",
      "Петровское       0.000\n",
      "Устилуг          0.000\n",
      "Любешов          0.000\n",
      "Литин            0.000\n",
      "Ратомка          0.000\n",
      "\n",
      "[5310 rows x 1 columns]\n"
     ]
    }
   ],
   "source": [
    "# Вывод таблицы\n",
    "pd.set_option('display.max_rows', 10)\n",
    "pd.options.display.float_format = '{:.3f}'.format\n",
    "print(vacancies_per_city_ratio.to_frame())"
   ]
  }
 ],
 "metadata": {
  "kernelspec": {
   "display_name": "Python 3",
   "language": "python",
   "name": "python3"
  },
  "language_info": {
   "codemirror_mode": {
    "name": "ipython",
    "version": 3
   },
   "file_extension": ".py",
   "mimetype": "text/x-python",
   "name": "python",
   "nbconvert_exporter": "python",
   "pygments_lexer": "ipython3",
   "version": "3.11.4"
  }
 },
 "nbformat": 4,
 "nbformat_minor": 5
}
