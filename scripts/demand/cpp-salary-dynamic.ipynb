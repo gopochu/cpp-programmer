{
 "cells": [
  {
   "cell_type": "code",
   "execution_count": 1,
   "id": "initial_id",
   "metadata": {
    "ExecuteTime": {
     "end_time": "2024-01-21T16:04:09.029546900Z",
     "start_time": "2024-01-21T16:04:07.831284400Z"
    },
    "collapsed": true
   },
   "outputs": [],
   "source": [
    "import numpy as np\n",
    "import pandas as pd\n",
    "import matplotlib.pyplot as plt"
   ]
  },
  {
   "cell_type": "code",
   "execution_count": 2,
   "id": "15adf3ba66cc5940",
   "metadata": {
    "ExecuteTime": {
     "start_time": "2024-01-21T16:10:39.611283700Z"
    },
    "collapsed": false,
    "is_executing": true
   },
   "outputs": [
    {
     "name": "stderr",
     "output_type": "stream",
     "text": [
      "C:\\Users\\vadla\\AppData\\Local\\Temp\\ipykernel_15604\\2556406632.py:1: DtypeWarning: Columns (1) have mixed types. Specify dtype option on import or set low_memory=False.\n",
      "  vac = pd.read_csv('C:\\Programming\\Django\\Vacancies.csv')\n"
     ]
    }
   ],
   "source": [
    "vac = pd.read_csv('C:\\Programming\\Django\\Vacancies.csv')"
   ]
  },
  {
   "cell_type": "code",
   "execution_count": 3,
   "id": "7f1b2ab8",
   "metadata": {},
   "outputs": [],
   "source": [
    "rates = pd.read_csv('C:\\Programming\\Django\\Rub.csv')"
   ]
  },
  {
   "cell_type": "code",
   "execution_count": 4,
   "id": "e86fd4898eddc279",
   "metadata": {
    "collapsed": false
   },
   "outputs": [
    {
     "data": {
      "text/html": [
       "<div>\n",
       "<style scoped>\n",
       "    .dataframe tbody tr th:only-of-type {\n",
       "        vertical-align: middle;\n",
       "    }\n",
       "\n",
       "    .dataframe tbody tr th {\n",
       "        vertical-align: top;\n",
       "    }\n",
       "\n",
       "    .dataframe thead th {\n",
       "        text-align: right;\n",
       "    }\n",
       "</style>\n",
       "<table border=\"1\" class=\"dataframe\">\n",
       "  <thead>\n",
       "    <tr style=\"text-align: right;\">\n",
       "      <th></th>\n",
       "      <th>name</th>\n",
       "      <th>key_skills</th>\n",
       "      <th>salary_from</th>\n",
       "      <th>salary_to</th>\n",
       "      <th>salary_currency</th>\n",
       "      <th>area_name</th>\n",
       "      <th>published_at</th>\n",
       "    </tr>\n",
       "  </thead>\n",
       "  <tbody>\n",
       "    <tr>\n",
       "      <th>0</th>\n",
       "      <td>SAP R/3 functional consultant</td>\n",
       "      <td>NaN</td>\n",
       "      <td>NaN</td>\n",
       "      <td>NaN</td>\n",
       "      <td>NaN</td>\n",
       "      <td>Москва</td>\n",
       "      <td>2003-01-24T21:30:49+0300</td>\n",
       "    </tr>\n",
       "    <tr>\n",
       "      <th>1</th>\n",
       "      <td>Broadcast encryption engineer</td>\n",
       "      <td>NaN</td>\n",
       "      <td>NaN</td>\n",
       "      <td>2000.0</td>\n",
       "      <td>USD</td>\n",
       "      <td>Южная Корея</td>\n",
       "      <td>2003-01-31T18:24:11+0300</td>\n",
       "    </tr>\n",
       "    <tr>\n",
       "      <th>2</th>\n",
       "      <td>Embedded OS engineering manager</td>\n",
       "      <td>NaN</td>\n",
       "      <td>NaN</td>\n",
       "      <td>2000.0</td>\n",
       "      <td>USD</td>\n",
       "      <td>Москва</td>\n",
       "      <td>2003-01-31T18:25:43+0300</td>\n",
       "    </tr>\n",
       "    <tr>\n",
       "      <th>3</th>\n",
       "      <td>Coordinator on Intellectual Property Projects</td>\n",
       "      <td>NaN</td>\n",
       "      <td>NaN</td>\n",
       "      <td>NaN</td>\n",
       "      <td>NaN</td>\n",
       "      <td>Москва</td>\n",
       "      <td>2003-02-12T10:40:50+0300</td>\n",
       "    </tr>\n",
       "    <tr>\n",
       "      <th>4</th>\n",
       "      <td>Outsourcing Projects Coordinator</td>\n",
       "      <td>NaN</td>\n",
       "      <td>NaN</td>\n",
       "      <td>NaN</td>\n",
       "      <td>NaN</td>\n",
       "      <td>Москва</td>\n",
       "      <td>2003-02-14T16:31:06+0300</td>\n",
       "    </tr>\n",
       "    <tr>\n",
       "      <th>5</th>\n",
       "      <td>Software engineer  Project Leader</td>\n",
       "      <td>NaN</td>\n",
       "      <td>NaN</td>\n",
       "      <td>NaN</td>\n",
       "      <td>NaN</td>\n",
       "      <td>Москва</td>\n",
       "      <td>2003-03-11T14:47:06+0300</td>\n",
       "    </tr>\n",
       "    <tr>\n",
       "      <th>6</th>\n",
       "      <td>Localization Project Coordinator</td>\n",
       "      <td>NaN</td>\n",
       "      <td>NaN</td>\n",
       "      <td>NaN</td>\n",
       "      <td>NaN</td>\n",
       "      <td>Москва</td>\n",
       "      <td>2003-03-19T14:22:04+0300</td>\n",
       "    </tr>\n",
       "    <tr>\n",
       "      <th>7</th>\n",
       "      <td>Software engineer (Project Leader )</td>\n",
       "      <td>NaN</td>\n",
       "      <td>NaN</td>\n",
       "      <td>NaN</td>\n",
       "      <td>NaN</td>\n",
       "      <td>Москва</td>\n",
       "      <td>2003-03-19T15:25:12+0300</td>\n",
       "    </tr>\n",
       "    <tr>\n",
       "      <th>8</th>\n",
       "      <td>Software engineer (Project Leader )</td>\n",
       "      <td>NaN</td>\n",
       "      <td>NaN</td>\n",
       "      <td>NaN</td>\n",
       "      <td>NaN</td>\n",
       "      <td>Москва</td>\n",
       "      <td>2003-03-19T15:26:37+0300</td>\n",
       "    </tr>\n",
       "    <tr>\n",
       "      <th>9</th>\n",
       "      <td>Software engineer  (Project Leader)</td>\n",
       "      <td>NaN</td>\n",
       "      <td>NaN</td>\n",
       "      <td>NaN</td>\n",
       "      <td>NaN</td>\n",
       "      <td>Москва</td>\n",
       "      <td>2003-03-19T15:27:50+0300</td>\n",
       "    </tr>\n",
       "  </tbody>\n",
       "</table>\n",
       "</div>"
      ],
      "text/plain": [
       "                                            name key_skills  salary_from  \\\n",
       "0                  SAP R/3 functional consultant        NaN          NaN   \n",
       "1                  Broadcast encryption engineer        NaN          NaN   \n",
       "2                Embedded OS engineering manager        NaN          NaN   \n",
       "3  Coordinator on Intellectual Property Projects        NaN          NaN   \n",
       "4               Outsourcing Projects Coordinator        NaN          NaN   \n",
       "5              Software engineer  Project Leader        NaN          NaN   \n",
       "6               Localization Project Coordinator        NaN          NaN   \n",
       "7            Software engineer (Project Leader )        NaN          NaN   \n",
       "8            Software engineer (Project Leader )        NaN          NaN   \n",
       "9            Software engineer  (Project Leader)        NaN          NaN   \n",
       "\n",
       "   salary_to salary_currency    area_name              published_at  \n",
       "0        NaN             NaN       Москва  2003-01-24T21:30:49+0300  \n",
       "1     2000.0             USD  Южная Корея  2003-01-31T18:24:11+0300  \n",
       "2     2000.0             USD       Москва  2003-01-31T18:25:43+0300  \n",
       "3        NaN             NaN       Москва  2003-02-12T10:40:50+0300  \n",
       "4        NaN             NaN       Москва  2003-02-14T16:31:06+0300  \n",
       "5        NaN             NaN       Москва  2003-03-11T14:47:06+0300  \n",
       "6        NaN             NaN       Москва  2003-03-19T14:22:04+0300  \n",
       "7        NaN             NaN       Москва  2003-03-19T15:25:12+0300  \n",
       "8        NaN             NaN       Москва  2003-03-19T15:26:37+0300  \n",
       "9        NaN             NaN       Москва  2003-03-19T15:27:50+0300  "
      ]
     },
     "execution_count": 4,
     "metadata": {},
     "output_type": "execute_result"
    }
   ],
   "source": [
    "vac.iloc[0:10, 0:7]"
   ]
  },
  {
   "cell_type": "code",
   "execution_count": 5,
   "id": "657dfd3a",
   "metadata": {},
   "outputs": [],
   "source": [
    "vac['year'] = vac['published_at'].astype(str).str.slice(0, 4)\n",
    "vac['month'] = vac['published_at'].astype(str).str.slice(5, 7)\n"
   ]
  },
  {
   "cell_type": "code",
   "execution_count": 6,
   "id": "f059c9e4",
   "metadata": {},
   "outputs": [],
   "source": [
    "vac = vac[vac['key_skills'].str.contains('c++|с++', na=False)]"
   ]
  },
  {
   "cell_type": "code",
   "execution_count": 7,
   "id": "cfe8faf3",
   "metadata": {},
   "outputs": [],
   "source": [
    "average_salary_by_year = vac.groupby('year')['salary_to'].mean()"
   ]
  },
  {
   "cell_type": "code",
   "execution_count": 8,
   "id": "ee20c3d1",
   "metadata": {},
   "outputs": [],
   "source": [
    "rates['year'] = rates['date'].str.slice(6, 10)\n",
    "rates['month'] = rates['date'].str.slice(3, 5)"
   ]
  },
  {
   "cell_type": "code",
   "execution_count": 9,
   "id": "ec8932a8",
   "metadata": {},
   "outputs": [],
   "source": [
    "rates['price'] = rates['price'].str.replace(',', '.').astype(float)"
   ]
  },
  {
   "cell_type": "code",
   "execution_count": 10,
   "id": "abe0485c",
   "metadata": {},
   "outputs": [],
   "source": [
    "# Преобразование зарплаты в рубли\n",
    "def convert_salary(row):\n",
    "    matching_rates = rates[(rates['year'] == row['year']) & (rates['month'] == row['month'])]\n",
    "    if matching_rates.empty:\n",
    "        return None\n",
    "    else:\n",
    "        return row['salary_to'] * matching_rates['price'].values[0]\n",
    "\n",
    "vac['salary_to_rub'] = vac.apply(lambda row: convert_salary(row) if row['salary_currency'] == 'USD' else row['salary_to'], axis=1)\n"
   ]
  },
  {
   "cell_type": "code",
   "execution_count": 11,
   "id": "5b494b3f",
   "metadata": {},
   "outputs": [],
   "source": [
    "vac = vac[vac['salary_to_rub'] <= 10000000]"
   ]
  },
  {
   "cell_type": "code",
   "execution_count": 12,
   "id": "ae0320fa",
   "metadata": {},
   "outputs": [],
   "source": [
    "average_salary_by_year = vac.groupby('year')['salary_to_rub'].mean()"
   ]
  },
  {
   "cell_type": "code",
   "execution_count": 13,
   "id": "51baaf98",
   "metadata": {},
   "outputs": [
    {
     "data": {
      "image/png": "[encoded data removed]",
      "text/plain": [
       "<Figure size 1200x600 with 1 Axes>"
      ]
     },
     "metadata": {},
     "output_type": "display_data"
    }
   ],
   "source": [
    "plt.figure(figsize=(12, 6))\n",
    "plt.plot(average_salary_by_year.index, average_salary_by_year.values)\n",
    "plt.xlabel('Год')\n",
    "plt.ylabel('Средняя зарплата (руб)')\n",
    "plt.title('График зарплат в зависимости от года')\n",
    "plt.show()"
   ]
  }
 ],
 "metadata": {
  "kernelspec": {
   "display_name": "Python 3",
   "language": "python",
   "name": "python3"
  },
  "language_info": {
   "codemirror_mode": {
    "name": "ipython",
    "version": 3
   },
   "file_extension": ".py",
   "mimetype": "text/x-python",
   "name": "python",
   "nbconvert_exporter": "python",
   "pygments_lexer": "ipython3",
   "version": "3.11.4"
  }
 },
 "nbformat": 4,
 "nbformat_minor": 5
}
