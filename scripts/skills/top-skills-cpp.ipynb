{
 "cells": [
  {
   "cell_type": "code",
   "execution_count": 1,
   "metadata": {
    "ExecuteTime": {
     "end_time": "2024-01-24T11:02:21.346788300Z",
     "start_time": "2024-01-24T11:02:19.569222600Z"
    }
   },
   "outputs": [
    {
     "name": "stderr",
     "output_type": "stream",
     "text": [
      "C:\\Users\\vadla\\AppData\\Local\\Temp\\ipykernel_10688\\3349487445.py:1: DeprecationWarning: \n",
      "Pyarrow will become a required dependency of pandas in the next major release of pandas (pandas 3.0),\n",
      "(to allow more performant data types, such as the Arrow string type, and better interoperability with other libraries)\n",
      "but was not found to be installed on your system.\n",
      "If this would cause problems for you,\n",
      "please provide us feedback at https://github.com/pandas-dev/pandas/issues/54466\n",
      "        \n",
      "  import pandas as pd\n"
     ]
    }
   ],
   "source": [
    "import pandas as pd\n",
    "import collections\n",
    "import tabulate\n",
    "import re"
   ]
  },
  {
   "cell_type": "code",
   "execution_count": 2,
   "metadata": {
    "ExecuteTime": {
     "end_time": "2024-01-24T11:03:08.240858400Z",
     "start_time": "2024-01-24T11:02:21.350809800Z"
    }
   },
   "outputs": [
    {
     "name": "stderr",
     "output_type": "stream",
     "text": [
      "C:\\Users\\vadla\\AppData\\Local\\Temp\\ipykernel_10688\\4036913902.py:1: DtypeWarning: Columns (1) have mixed types. Specify dtype option on import or set low_memory=False.\n",
      "  df = pd.read_csv(\"C:\\Programming\\Django\\Vacancies.csv\")\n"
     ]
    }
   ],
   "source": [
    "df = pd.read_csv(\"C:\\Programming\\Django\\Vacancies.csv\")"
   ]
  },
  {
   "cell_type": "code",
   "execution_count": 125,
   "outputs": [],
   "source": [
    "df = df[df[\"key_skills\"].str.contains('c\\+\\+|с\\+\\+', case=False, na=False)]"
   ],
   "metadata": {
    "collapsed": false,
    "ExecuteTime": {
     "end_time": "2024-01-24T11:20:18.565190400Z",
     "start_time": "2024-01-24T11:19:42.790513400Z"
    }
   }
  },
  {
   "cell_type": "code",
   "execution_count": 133,
   "metadata": {
    "ExecuteTime": {
     "end_time": "2024-01-24T11:22:10.265201400Z",
     "start_time": "2024-01-24T11:22:10.169794800Z"
    }
   },
   "outputs": [],
   "source": [
    "top_skills_by_year = pd.DataFrame()"
   ]
  },
  {
   "cell_type": "code",
   "execution_count": 134,
   "outputs": [
    {
     "name": "stderr",
     "output_type": "stream",
     "text": [
      "C:\\Users\\vadla\\AppData\\Local\\Temp\\ipykernel_10688\\44070311.py:1: SettingWithCopyWarning: \n",
      "A value is trying to be set on a copy of a slice from a DataFrame.\n",
      "Try using .loc[row_indexer,col_indexer] = value instead\n",
      "\n",
      "See the caveats in the documentation: https://pandas.pydata.org/pandas-docs/stable/user_guide/indexing.html#returning-a-view-versus-a-copy\n",
      "  df[\"published_at\"] = pd.to_datetime(df[\"published_at\"], errors='coerce')\n"
     ]
    }
   ],
   "source": [
    "df[\"published_at\"] = pd.to_datetime(df[\"published_at\"], errors='coerce')"
   ],
   "metadata": {
    "collapsed": false,
    "ExecuteTime": {
     "end_time": "2024-01-24T11:22:15.725939800Z",
     "start_time": "2024-01-24T11:22:14.581350100Z"
    }
   }
  },
  {
   "cell_type": "code",
   "execution_count": 135,
   "outputs": [
    {
     "name": "stderr",
     "output_type": "stream",
     "text": [
      "C:\\Users\\vadla\\AppData\\Local\\Temp\\ipykernel_10688\\1422993969.py:1: SettingWithCopyWarning: \n",
      "A value is trying to be set on a copy of a slice from a DataFrame.\n",
      "Try using .loc[row_indexer,col_indexer] = value instead\n",
      "\n",
      "See the caveats in the documentation: https://pandas.pydata.org/pandas-docs/stable/user_guide/indexing.html#returning-a-view-versus-a-copy\n",
      "  df[\"year\"] = df[\"published_at\"].dt.year\n"
     ]
    }
   ],
   "source": [
    "df[\"year\"] = df[\"published_at\"].dt.year"
   ],
   "metadata": {
    "collapsed": false,
    "ExecuteTime": {
     "end_time": "2024-01-24T11:22:19.747379900Z",
     "start_time": "2024-01-24T11:22:19.685393900Z"
    }
   }
  },
  {
   "cell_type": "code",
   "execution_count": 136,
   "outputs": [],
   "source": [
    "grouped = df.groupby(\"year\")"
   ],
   "metadata": {
    "collapsed": false,
    "ExecuteTime": {
     "end_time": "2024-01-24T11:22:24.125583800Z",
     "start_time": "2024-01-24T11:22:24.104875900Z"
    }
   }
  },
  {
   "cell_type": "code",
   "execution_count": 137,
   "outputs": [
    {
     "data": {
      "text/plain": "                                      name  \\\n1246106         C++ developer (full stack)   \n1251520                Ведущий программист   \n1253217  Ведущий системный разработчик C++   \n1253504                      С++ Developer   \n1254931                Инженер-программист   \n\n                                                key_skills  salary_from  \\\n1246106  C++\\nWebRTC\\nBoost\\niOS\\nAndroid\\nWindows Mobi...          NaN   \n1251520                          Python\\nPHP\\nC/C++\\nLinux      60000.0   \n1253217  C++\\nPython\\nJava\\nQt\\nООП\\nOpenGL\\nBoost\\nNod...     100000.0   \n1253504                     C++  C# .NET\\nJavaScript, HTML      90000.0   \n1254931                       C++\\nMS Visual Studio\\nLinux      55000.0   \n\n         salary_to salary_currency        area_name              published_at  \\\n1246106        NaN             NaN            Минск 2015-05-25 11:34:10+03:00   \n1251520   100000.0             RUR  Санкт-Петербург 2015-05-31 23:41:28+03:00   \n1253217        NaN             RUR             Тула 2015-06-02 15:22:45+03:00   \n1253504   110000.0             RUR           Москва 2015-06-02 19:11:22+03:00   \n1254931    85000.0             RUR        Раменское 2015-06-04 13:10:43+03:00   \n\n         year  \n1246106  2015  \n1251520  2015  \n1253217  2015  \n1253504  2015  \n1254931  2015  ",
      "text/html": "<div>\n<style scoped>\n    .dataframe tbody tr th:only-of-type {\n        vertical-align: middle;\n    }\n\n    .dataframe tbody tr th {\n        vertical-align: top;\n    }\n\n    .dataframe thead th {\n        text-align: right;\n    }\n</style>\n<table border=\"1\" class=\"dataframe\">\n  <thead>\n    <tr style=\"text-align: right;\">\n      <th></th>\n      <th>name</th>\n      <th>key_skills</th>\n      <th>salary_from</th>\n      <th>salary_to</th>\n      <th>salary_currency</th>\n      <th>area_name</th>\n      <th>published_at</th>\n      <th>year</th>\n    </tr>\n  </thead>\n  <tbody>\n    <tr>\n      <th>1246106</th>\n      <td>C++ developer (full stack)</td>\n      <td>C++\\nWebRTC\\nBoost\\niOS\\nAndroid\\nWindows Mobi...</td>\n      <td>NaN</td>\n      <td>NaN</td>\n      <td>NaN</td>\n      <td>Минск</td>\n      <td>2015-05-25 11:34:10+03:00</td>\n      <td>2015</td>\n    </tr>\n    <tr>\n      <th>1251520</th>\n      <td>Ведущий программист</td>\n      <td>Python\\nPHP\\nC/C++\\nLinux</td>\n      <td>60000.0</td>\n      <td>100000.0</td>\n      <td>RUR</td>\n      <td>Санкт-Петербург</td>\n      <td>2015-05-31 23:41:28+03:00</td>\n      <td>2015</td>\n    </tr>\n    <tr>\n      <th>1253217</th>\n      <td>Ведущий системный разработчик C++</td>\n      <td>C++\\nPython\\nJava\\nQt\\nООП\\nOpenGL\\nBoost\\nNod...</td>\n      <td>100000.0</td>\n      <td>NaN</td>\n      <td>RUR</td>\n      <td>Тула</td>\n      <td>2015-06-02 15:22:45+03:00</td>\n      <td>2015</td>\n    </tr>\n    <tr>\n      <th>1253504</th>\n      <td>С++ Developer</td>\n      <td>C++  C# .NET\\nJavaScript, HTML</td>\n      <td>90000.0</td>\n      <td>110000.0</td>\n      <td>RUR</td>\n      <td>Москва</td>\n      <td>2015-06-02 19:11:22+03:00</td>\n      <td>2015</td>\n    </tr>\n    <tr>\n      <th>1254931</th>\n      <td>Инженер-программист</td>\n      <td>C++\\nMS Visual Studio\\nLinux</td>\n      <td>55000.0</td>\n      <td>85000.0</td>\n      <td>RUR</td>\n      <td>Раменское</td>\n      <td>2015-06-04 13:10:43+03:00</td>\n      <td>2015</td>\n    </tr>\n  </tbody>\n</table>\n</div>"
     },
     "execution_count": 137,
     "metadata": {},
     "output_type": "execute_result"
    }
   ],
   "source": [
    "df.head()"
   ],
   "metadata": {
    "collapsed": false,
    "ExecuteTime": {
     "end_time": "2024-01-24T11:22:25.808736200Z",
     "start_time": "2024-01-24T11:22:25.776348300Z"
    }
   }
  },
  {
   "cell_type": "code",
   "execution_count": 138,
   "metadata": {
    "ExecuteTime": {
     "end_time": "2024-01-24T11:23:12.950066400Z",
     "start_time": "2024-01-24T11:22:27.389203200Z"
    }
   },
   "outputs": [],
   "source": [
    "for name, group in grouped:\n",
    "  # извлекаем навыки из поля key_skills\n",
    "  skills = group[\"key_skills\"].str.split(\"\\n|,\", expand=True).stack().reset_index(drop=True)\n",
    "  # подсчитываем частоту каждого навыка в группе\n",
    "  counter = skills.value_counts()\n",
    "  # выбираем 20 наиболее частых навыков\n",
    "  top_skills = counter.head(20)\n",
    "  # преобразуем серию в датафрейм\n",
    "  df = pd.DataFrame(top_skills).reset_index()\n",
    "  df.columns = [\"skill\", \"frequency\"]\n",
    "  # добавляем столбец с годом\n",
    "  df[\"year\"] = name\n",
    "  # добавляем датафрейм к итоговому датафрейму\n",
    "  top_skills_by_year = pd.concat([top_skills_by_year, df])"
   ]
  },
  {
   "cell_type": "code",
   "execution_count": 139,
   "metadata": {
    "ExecuteTime": {
     "end_time": "2024-01-24T11:23:16.318860200Z",
     "start_time": "2024-01-24T11:23:16.262710800Z"
    }
   },
   "outputs": [
    {
     "name": "stdout",
     "output_type": "stream",
     "text": [
      "|    | skill            |   frequency |   year |\n",
      "|---:|:-----------------|------------:|-------:|\n",
      "|  0 | C++              |         942 |   2015 |\n",
      "|  1 | STL              |         253 |   2015 |\n",
      "|  2 | Linux            |         237 |   2015 |\n",
      "|  3 | C/C++            |         235 |   2015 |\n",
      "|  4 | Git              |         187 |   2015 |\n",
      "|  5 | Java             |         184 |   2015 |\n",
      "|  6 | ООП              |         173 |   2015 |\n",
      "|  7 | Design Patterns  |         167 |   2015 |\n",
      "|  8 | iOS              |         159 |   2015 |\n",
      "|  9 | Python           |         140 |   2015 |\n",
      "| 10 | C#               |         125 |   2015 |\n",
      "| 11 | Objective-C      |         114 |   2015 |\n",
      "| 12 | JavaScript       |         113 |   2015 |\n",
      "| 13 | XML              |         108 |   2015 |\n",
      "| 14 | SQL              |         106 |   2015 |\n",
      "| 15 | SVN              |          96 |   2015 |\n",
      "| 16 | Boost            |          92 |   2015 |\n",
      "| 17 | Qt               |          87 |   2015 |\n",
      "| 18 | Android          |          81 |   2015 |\n",
      "| 19 | best-practices   |          73 |   2015 |\n",
      "|  0 | C++              |        2611 |   2016 |\n",
      "|  1 | Linux            |         976 |   2016 |\n",
      "|  2 | C/C++            |         842 |   2016 |\n",
      "|  3 | ООП              |         749 |   2016 |\n",
      "|  4 | Git              |         737 |   2016 |\n",
      "|  5 | Java             |         706 |   2016 |\n",
      "|  6 | C#               |         651 |   2016 |\n",
      "|  7 | Python           |         577 |   2016 |\n",
      "|  8 | SQL              |         447 |   2016 |\n",
      "|  9 | JavaScript       |         410 |   2016 |\n",
      "| 10 | Qt               |         385 |   2016 |\n",
      "| 11 | SVN              |         280 |   2016 |\n",
      "| 12 | STL              |         277 |   2016 |\n",
      "| 13 | MySQL            |         273 |   2016 |\n",
      "| 14 | .NET Framework   |         269 |   2016 |\n",
      "| 15 | MS Visual Studio |         236 |   2016 |\n",
      "| 16 | Английский язык  |         235 |   2016 |\n",
      "| 17 | PHP              |         228 |   2016 |\n",
      "| 18 | XML              |         227 |   2016 |\n",
      "| 19 | Android          |         203 |   2016 |\n",
      "|  0 | C++              |        3609 |   2017 |\n",
      "|  1 | Linux            |        1482 |   2017 |\n",
      "|  2 | C/C++            |        1415 |   2017 |\n",
      "|  3 | C#               |         961 |   2017 |\n",
      "|  4 | ООП              |         911 |   2017 |\n",
      "|  5 | Git              |         904 |   2017 |\n",
      "|  6 | Java             |         888 |   2017 |\n",
      "|  7 | Python           |         858 |   2017 |\n",
      "|  8 | SQL              |         689 |   2017 |\n",
      "|  9 | Qt               |         619 |   2017 |\n",
      "| 10 | JavaScript       |         560 |   2017 |\n",
      "| 11 | STL              |         430 |   2017 |\n",
      "| 12 | MySQL            |         374 |   2017 |\n",
      "| 13 | PHP              |         344 |   2017 |\n",
      "| 14 | HTML             |         324 |   2017 |\n",
      "| 15 | Android          |         298 |   2017 |\n",
      "| 16 | MS Visual Studio |         290 |   2017 |\n",
      "| 17 | .NET Framework   |         281 |   2017 |\n",
      "| 18 | PostgreSQL       |         270 |   2017 |\n",
      "| 19 | iOS              |         258 |   2017 |\n",
      "|  0 | C++              |        6244 |   2018 |\n",
      "|  1 | Linux            |        2257 |   2018 |\n",
      "|  2 | Python           |        2070 |   2018 |\n",
      "|  3 | C#               |        2057 |   2018 |\n",
      "|  4 | Java             |        2057 |   2018 |\n",
      "|  5 | C/C++            |        2030 |   2018 |\n",
      "|  6 | Git              |        1892 |   2018 |\n",
      "|  7 | JavaScript       |        1489 |   2018 |\n",
      "|  8 | SQL              |        1387 |   2018 |\n",
      "|  9 | ООП              |        1138 |   2018 |\n",
      "| 10 | HTML             |        1012 |   2018 |\n",
      "| 11 | MySQL            |         963 |   2018 |\n",
      "| 12 | Qt               |         841 |   2018 |\n",
      "| 13 | PHP              |         789 |   2018 |\n",
      "| 14 | CSS              |         758 |   2018 |\n",
      "| 15 | HTML5            |         690 |   2018 |\n",
      "| 16 | .NET Framework   |         683 |   2018 |\n",
      "| 17 | MS SQL           |         682 |   2018 |\n",
      "| 18 | STL              |         593 |   2018 |\n",
      "| 19 | PostgreSQL       |         518 |   2018 |\n",
      "|  0 | C++              |        7035 |   2019 |\n",
      "|  1 | Linux            |        2713 |   2019 |\n",
      "|  2 | C/C++            |        2495 |   2019 |\n",
      "|  3 | Python           |        2317 |   2019 |\n",
      "|  4 | Git              |        1722 |   2019 |\n",
      "|  5 | Java             |        1701 |   2019 |\n",
      "|  6 | C#               |        1578 |   2019 |\n",
      "|  7 | SQL              |        1421 |   2019 |\n",
      "|  8 | ООП              |        1200 |   2019 |\n",
      "|  9 | JavaScript       |        1025 |   2019 |\n",
      "| 10 | Qt               |         950 |   2019 |\n",
      "| 11 | Английский язык  |         650 |   2019 |\n",
      "| 12 | STL              |         642 |   2019 |\n",
      "| 13 | MySQL            |         598 |   2019 |\n",
      "| 14 | HTML             |         525 |   2019 |\n",
      "| 15 | Android          |         523 |   2019 |\n",
      "| 16 | PHP              |         522 |   2019 |\n",
      "| 17 | MS Visual Studio |         507 |   2019 |\n",
      "| 18 | MS SQL           |         504 |   2019 |\n",
      "| 19 | PostgreSQL       |         456 |   2019 |\n",
      "|  0 | C++              |       11782 |   2020 |\n",
      "|  1 | Linux            |        4796 |   2020 |\n",
      "|  2 | C/C++            |        4138 |   2020 |\n",
      "|  3 | Python           |        3943 |   2020 |\n",
      "|  4 | SQL              |        2923 |   2020 |\n",
      "|  5 | Git              |        2653 |   2020 |\n",
      "|  6 | Java             |        2365 |   2020 |\n",
      "|  7 | ООП              |        2179 |   2020 |\n",
      "|  8 | C#               |        1831 |   2020 |\n",
      "|  9 | Английский язык  |        1756 |   2020 |\n",
      "| 10 | Qt               |        1644 |   2020 |\n",
      "| 11 | JavaScript       |        1143 |   2020 |\n",
      "| 12 | MS SQL           |        1002 |   2020 |\n",
      "| 13 | STL              |         945 |   2020 |\n",
      "| 14 | MS Visual Studio |         931 |   2020 |\n",
      "| 15 | Android          |         900 |   2020 |\n",
      "| 16 | MATLAB           |         871 |   2020 |\n",
      "| 17 | PostgreSQL       |         811 |   2020 |\n",
      "| 18 | HTML             |         673 |   2020 |\n",
      "| 19 | iOS              |         651 |   2020 |\n",
      "|  0 | C++              |       15205 |   2021 |\n",
      "|  1 | Linux            |        6215 |   2021 |\n",
      "|  2 | C/C++            |        6115 |   2021 |\n",
      "|  3 | Python           |        5598 |   2021 |\n",
      "|  4 | Git              |        3926 |   2021 |\n",
      "|  5 | SQL              |        3300 |   2021 |\n",
      "|  6 | ООП              |        3050 |   2021 |\n",
      "|  7 | Английский язык  |        2959 |   2021 |\n",
      "|  8 | Java             |        2578 |   2021 |\n",
      "|  9 | C#               |        2453 |   2021 |\n",
      "| 10 | Qt               |        2081 |   2021 |\n",
      "| 11 | STL              |        1310 |   2021 |\n",
      "| 12 | JavaScript       |        1269 |   2021 |\n",
      "| 13 | MS Visual Studio |        1098 |   2021 |\n",
      "| 14 | PostgreSQL       |         975 |   2021 |\n",
      "| 15 | MATLAB           |         969 |   2021 |\n",
      "| 16 | MS SQL           |         967 |   2021 |\n",
      "| 17 | HTML             |         854 |   2021 |\n",
      "| 18 | Unity            |         732 |   2021 |\n",
      "| 19 | MySQL            |         702 |   2021 |\n",
      "|  0 | C++              |       11622 |   2022 |\n",
      "|  1 | C/C++            |        7452 |   2022 |\n",
      "|  2 | Linux            |        6042 |   2022 |\n",
      "|  3 | Python           |        4645 |   2022 |\n",
      "|  4 | Git              |        3516 |   2022 |\n",
      "|  5 | Английский язык  |        3054 |   2022 |\n",
      "|  6 | ООП              |        2795 |   2022 |\n",
      "|  7 | SQL              |        2275 |   2022 |\n",
      "|  8 | Qt               |        2076 |   2022 |\n",
      "|  9 | Java             |        1763 |   2022 |\n",
      "| 10 | C#               |        1732 |   2022 |\n",
      "| 11 | STL              |        1345 |   2022 |\n",
      "| 12 | MS Visual Studio |         885 |   2022 |\n",
      "| 13 | PostgreSQL       |         859 |   2022 |\n",
      "| 14 | ARM              |         838 |   2022 |\n",
      "| 15 | JavaScript       |         791 |   2022 |\n",
      "| 16 | MATLAB           |         732 |   2022 |\n",
      "| 17 | С++              |         702 |   2022 |\n",
      "| 18 | Bash             |         689 |   2022 |\n",
      "| 19 | Разработка ПО    |         621 |   2022 |\n",
      "|  0 | C++              |        7930 |   2023 |\n",
      "|  1 | C/C++            |        5029 |   2023 |\n",
      "|  2 | Linux            |        4633 |   2023 |\n",
      "|  3 | Python           |        3018 |   2023 |\n",
      "|  4 | Git              |        2468 |   2023 |\n",
      "|  5 | Qt               |        1654 |   2023 |\n",
      "|  6 | ООП              |        1342 |   2023 |\n",
      "|  7 | SQL              |        1321 |   2023 |\n",
      "|  8 | STL              |        1079 |   2023 |\n",
      "|  9 | Английский язык  |        1057 |   2023 |\n",
      "| 10 | Java             |         946 |   2023 |\n",
      "| 11 | C#               |         872 |   2023 |\n",
      "| 12 | PostgreSQL       |         769 |   2023 |\n",
      "| 13 | ARM              |         651 |   2023 |\n",
      "| 14 | Boost            |         629 |   2023 |\n",
      "| 15 | Разработка ПО    |         625 |   2023 |\n",
      "| 16 | TCP/IP           |         604 |   2023 |\n",
      "| 17 | Bash             |         548 |   2023 |\n",
      "| 18 | С++              |         544 |   2023 |\n",
      "| 19 | MS Visual Studio |         457 |   2023 |\n"
     ]
    }
   ],
   "source": [
    "# выводим итоговый датафрейм в виде таблицы\n",
    "print(top_skills_by_year.to_markdown())"
   ]
  }
 ],
 "metadata": {
  "kernelspec": {
   "display_name": "Python 3",
   "language": "python",
   "name": "python3"
  },
  "language_info": {
   "codemirror_mode": {
    "name": "ipython",
    "version": 3
   },
   "file_extension": ".py",
   "mimetype": "text/x-python",
   "name": "python",
   "nbconvert_exporter": "python",
   "pygments_lexer": "ipython3",
   "version": "3.11.4"
  },
  "orig_nbformat": 4
 },
 "nbformat": 4,
 "nbformat_minor": 2
}
