{
 "cells": [
  {
   "cell_type": "code",
   "execution_count": 184,
   "metadata": {
    "ExecuteTime": {
     "end_time": "2024-01-24T10:33:18.380980400Z",
     "start_time": "2024-01-24T10:33:18.375883500Z"
    }
   },
   "outputs": [],
   "source": [
    "import pandas as pd\n",
    "import collections\n",
    "import tabulate"
   ]
  },
  {
   "cell_type": "code",
   "execution_count": 185,
   "metadata": {
    "ExecuteTime": {
     "end_time": "2024-01-24T10:34:19.401553900Z",
     "start_time": "2024-01-24T10:33:18.380980400Z"
    }
   },
   "outputs": [
    {
     "name": "stderr",
     "output_type": "stream",
     "text": [
      "C:\\Users\\vadla\\AppData\\Local\\Temp\\ipykernel_2336\\4036913902.py:1: DtypeWarning: Columns (1) have mixed types. Specify dtype option on import or set low_memory=False.\n",
      "  df = pd.read_csv(\"C:\\Programming\\Django\\Vacancies.csv\")\n"
     ]
    }
   ],
   "source": [
    "df = pd.read_csv(\"C:\\Programming\\Django\\Vacancies.csv\")"
   ]
  },
  {
   "cell_type": "code",
   "execution_count": 186,
   "metadata": {
    "ExecuteTime": {
     "end_time": "2024-01-24T10:34:19.622928400Z",
     "start_time": "2024-01-24T10:34:19.480031200Z"
    }
   },
   "outputs": [],
   "source": [
    "top_skills_by_year = pd.DataFrame()"
   ]
  },
  {
   "cell_type": "code",
   "execution_count": 190,
   "outputs": [],
   "source": [
    "df[\"published_at\"] = pd.to_datetime(df[\"published_at\"], errors='coerce')"
   ],
   "metadata": {
    "collapsed": false,
    "ExecuteTime": {
     "end_time": "2024-01-24T10:52:32.724206800Z",
     "start_time": "2024-01-24T10:52:03.402290700Z"
    }
   }
  },
  {
   "cell_type": "code",
   "execution_count": 191,
   "outputs": [],
   "source": [
    "df[\"year\"] = df[\"published_at\"].dt.year"
   ],
   "metadata": {
    "collapsed": false,
    "ExecuteTime": {
     "end_time": "2024-01-24T10:52:45.402158700Z",
     "start_time": "2024-01-24T10:52:44.462616400Z"
    }
   }
  },
  {
   "cell_type": "code",
   "execution_count": 192,
   "outputs": [],
   "source": [
    "grouped = df.groupby(\"year\")"
   ],
   "metadata": {
    "collapsed": false,
    "ExecuteTime": {
     "end_time": "2024-01-24T10:52:51.651565Z",
     "start_time": "2024-01-24T10:52:51.651025400Z"
    }
   }
  },
  {
   "cell_type": "code",
   "execution_count": 193,
   "outputs": [
    {
     "data": {
      "text/plain": "                                            name key_skills  salary_from  \\\n0                  SAP R/3 functional consultant        NaN          NaN   \n1                  Broadcast encryption engineer        NaN          NaN   \n2                Embedded OS engineering manager        NaN          NaN   \n3  Coordinator on Intellectual Property Projects        NaN          NaN   \n4               Outsourcing Projects Coordinator        NaN          NaN   \n\n   salary_to salary_currency    area_name              published_at    year  \n0        NaN             NaN       Москва 2003-01-24 21:30:49+03:00  2003.0  \n1     2000.0             USD  Южная Корея 2003-01-31 18:24:11+03:00  2003.0  \n2     2000.0             USD       Москва 2003-01-31 18:25:43+03:00  2003.0  \n3        NaN             NaN       Москва 2003-02-12 10:40:50+03:00  2003.0  \n4        NaN             NaN       Москва 2003-02-14 16:31:06+03:00  2003.0  ",
      "text/html": "<div>\n<style scoped>\n    .dataframe tbody tr th:only-of-type {\n        vertical-align: middle;\n    }\n\n    .dataframe tbody tr th {\n        vertical-align: top;\n    }\n\n    .dataframe thead th {\n        text-align: right;\n    }\n</style>\n<table border=\"1\" class=\"dataframe\">\n  <thead>\n    <tr style=\"text-align: right;\">\n      <th></th>\n      <th>name</th>\n      <th>key_skills</th>\n      <th>salary_from</th>\n      <th>salary_to</th>\n      <th>salary_currency</th>\n      <th>area_name</th>\n      <th>published_at</th>\n      <th>year</th>\n    </tr>\n  </thead>\n  <tbody>\n    <tr>\n      <th>0</th>\n      <td>SAP R/3 functional consultant</td>\n      <td>NaN</td>\n      <td>NaN</td>\n      <td>NaN</td>\n      <td>NaN</td>\n      <td>Москва</td>\n      <td>2003-01-24 21:30:49+03:00</td>\n      <td>2003.0</td>\n    </tr>\n    <tr>\n      <th>1</th>\n      <td>Broadcast encryption engineer</td>\n      <td>NaN</td>\n      <td>NaN</td>\n      <td>2000.0</td>\n      <td>USD</td>\n      <td>Южная Корея</td>\n      <td>2003-01-31 18:24:11+03:00</td>\n      <td>2003.0</td>\n    </tr>\n    <tr>\n      <th>2</th>\n      <td>Embedded OS engineering manager</td>\n      <td>NaN</td>\n      <td>NaN</td>\n      <td>2000.0</td>\n      <td>USD</td>\n      <td>Москва</td>\n      <td>2003-01-31 18:25:43+03:00</td>\n      <td>2003.0</td>\n    </tr>\n    <tr>\n      <th>3</th>\n      <td>Coordinator on Intellectual Property Projects</td>\n      <td>NaN</td>\n      <td>NaN</td>\n      <td>NaN</td>\n      <td>NaN</td>\n      <td>Москва</td>\n      <td>2003-02-12 10:40:50+03:00</td>\n      <td>2003.0</td>\n    </tr>\n    <tr>\n      <th>4</th>\n      <td>Outsourcing Projects Coordinator</td>\n      <td>NaN</td>\n      <td>NaN</td>\n      <td>NaN</td>\n      <td>NaN</td>\n      <td>Москва</td>\n      <td>2003-02-14 16:31:06+03:00</td>\n      <td>2003.0</td>\n    </tr>\n  </tbody>\n</table>\n</div>"
     },
     "execution_count": 193,
     "metadata": {},
     "output_type": "execute_result"
    }
   ],
   "source": [
    "df.head()"
   ],
   "metadata": {
    "collapsed": false,
    "ExecuteTime": {
     "end_time": "2024-01-24T10:52:54.496998600Z",
     "start_time": "2024-01-24T10:52:54.149603400Z"
    }
   }
  },
  {
   "cell_type": "code",
   "execution_count": 194,
   "metadata": {
    "ExecuteTime": {
     "end_time": "2024-01-24T10:54:47.379750400Z",
     "start_time": "2024-01-24T10:53:00.345078100Z"
    }
   },
   "outputs": [],
   "source": [
    "for name, group in grouped:\n",
    "  # извлекаем навыки из поля key_skills\n",
    "  skills = group[\"key_skills\"].str.split(\"\\n|,\", expand=True).stack().reset_index(drop=True)\n",
    "  # подсчитываем частоту каждого навыка в группе\n",
    "  counter = skills.value_counts()\n",
    "  # выбираем 20 наиболее частых навыков\n",
    "  top_skills = counter.head(20)\n",
    "  # преобразуем серию в датафрейм\n",
    "  df = pd.DataFrame(top_skills).reset_index()\n",
    "  df.columns = [\"skill\", \"frequency\"]\n",
    "  # добавляем столбец с годом\n",
    "  df[\"year\"] = name\n",
    "  # добавляем датафрейм к итоговому датафрейму\n",
    "  top_skills_by_year = pd.concat([top_skills_by_year, df])"
   ]
  },
  {
   "cell_type": "code",
   "execution_count": 195,
   "metadata": {
    "ExecuteTime": {
     "end_time": "2024-01-24T10:54:53.209563900Z",
     "start_time": "2024-01-24T10:54:53.067916800Z"
    }
   },
   "outputs": [
    {
     "name": "stdout",
     "output_type": "stream",
     "text": [
      "|    | skill                               |   frequency |   year |\n",
      "|---:|:------------------------------------|------------:|-------:|\n",
      "|  0 | JavaScript                          |        6833 |   2015 |\n",
      "|  1 | ООП                                 |        5156 |   2015 |\n",
      "|  2 | jQuery                              |        5124 |   2015 |\n",
      "|  3 | HTML5                               |        5012 |   2015 |\n",
      "|  4 | HTML                                |        3803 |   2015 |\n",
      "|  5 | C#                                  |        3447 |   2015 |\n",
      "|  6 | MVC                                 |        3149 |   2015 |\n",
      "|  7 | .NET Framework                      |        3116 |   2015 |\n",
      "|  8 | CSS                                 |        3020 |   2015 |\n",
      "|  9 | ASP.NET                             |        3005 |   2015 |\n",
      "| 10 | PHP                                 |        2786 |   2015 |\n",
      "| 11 | Git                                 |        2529 |   2015 |\n",
      "| 12 | Ведение переговоров                 |        2434 |   2015 |\n",
      "| 13 | MySQL                               |        2431 |   2015 |\n",
      "| 14 | Java                                |        2321 |   2015 |\n",
      "| 15 | SQL                                 |        2161 |   2015 |\n",
      "| 16 | Управление проектами                |        1977 |   2015 |\n",
      "| 17 | Поиск и привлечение клиентов        |        1868 |   2015 |\n",
      "| 18 | CSS3                                |        1808 |   2015 |\n",
      "| 19 | Английский язык                     |        1732 |   2015 |\n",
      "|  0 | JavaScript                          |       13514 |   2016 |\n",
      "|  1 | HTML                                |        9827 |   2016 |\n",
      "|  2 | PHP                                 |        9038 |   2016 |\n",
      "|  3 | Git                                 |        8451 |   2016 |\n",
      "|  4 | Ведение переговоров                 |        8407 |   2016 |\n",
      "|  5 | CSS                                 |        8151 |   2016 |\n",
      "|  6 | jQuery                              |        7695 |   2016 |\n",
      "|  7 | MySQL                               |        7602 |   2016 |\n",
      "|  8 | Работа в команде                    |        7110 |   2016 |\n",
      "|  9 | HTML5                               |        6765 |   2016 |\n",
      "| 10 | Пользователь ПК                     |        6727 |   2016 |\n",
      "| 11 | SQL                                 |        6580 |   2016 |\n",
      "| 12 | Java                                |        6454 |   2016 |\n",
      "| 13 | Управление проектами                |        6358 |   2016 |\n",
      "| 14 | ООП                                 |        6030 |   2016 |\n",
      "| 15 | Грамотная речь                      |        5506 |   2016 |\n",
      "| 16 | CSS3                                |        5360 |   2016 |\n",
      "| 17 | Поиск и привлечение клиентов        |        5286 |   2016 |\n",
      "| 18 | Навыки продаж                       |        5123 |   2016 |\n",
      "| 19 | Активные продажи                    |        5054 |   2016 |\n",
      "|  0 | JavaScript                          |       20193 |   2017 |\n",
      "|  1 | HTML                                |       14515 |   2017 |\n",
      "|  2 | PHP                                 |       12705 |   2017 |\n",
      "|  3 | CSS                                 |       12677 |   2017 |\n",
      "|  4 | Git                                 |       12587 |   2017 |\n",
      "|  5 | MySQL                               |       11177 |   2017 |\n",
      "|  6 | Ведение переговоров                 |       10196 |   2017 |\n",
      "|  7 | SQL                                 |        9943 |   2017 |\n",
      "|  8 | jQuery                              |        9717 |   2017 |\n",
      "|  9 | HTML5                               |        8951 |   2017 |\n",
      "| 10 | Управление проектами                |        8724 |   2017 |\n",
      "| 11 | Java                                |        8419 |   2017 |\n",
      "| 12 | Работа в команде                    |        8173 |   2017 |\n",
      "| 13 | Linux                               |        7953 |   2017 |\n",
      "| 14 | ООП                                 |        7921 |   2017 |\n",
      "| 15 | Пользователь ПК                     |        7210 |   2017 |\n",
      "| 16 | Английский язык                     |        6897 |   2017 |\n",
      "| 17 | Активные продажи                    |        6872 |   2017 |\n",
      "| 18 | CSS3                                |        6583 |   2017 |\n",
      "| 19 | B2B Продажи                         |        6432 |   2017 |\n",
      "|  0 | JavaScript                          |       28115 |   2018 |\n",
      "|  1 | HTML                                |       20190 |   2018 |\n",
      "|  2 | Git                                 |       19464 |   2018 |\n",
      "|  3 | CSS                                 |       17624 |   2018 |\n",
      "|  4 | PHP                                 |       17167 |   2018 |\n",
      "|  5 | SQL                                 |       16136 |   2018 |\n",
      "|  6 | MySQL                               |       15695 |   2018 |\n",
      "|  7 | Ведение переговоров                 |       15266 |   2018 |\n",
      "|  8 | Управление проектами                |       13631 |   2018 |\n",
      "|  9 | Работа в команде                    |       13217 |   2018 |\n",
      "| 10 | Java                                |       12972 |   2018 |\n",
      "| 11 | Linux                               |       12445 |   2018 |\n",
      "| 12 | Пользователь ПК                     |       11593 |   2018 |\n",
      "| 13 | HTML5                               |       11427 |   2018 |\n",
      "| 14 | jQuery                              |       11327 |   2018 |\n",
      "| 15 | Английский язык                     |       10910 |   2018 |\n",
      "| 16 | Активные продажи                    |       10248 |   2018 |\n",
      "| 17 | Грамотная речь                      |        9874 |   2018 |\n",
      "| 18 | ООП                                 |        9801 |   2018 |\n",
      "| 19 | Деловая переписка                   |        9634 |   2018 |\n",
      "|  0 | JavaScript                          |       31665 |   2019 |\n",
      "|  1 | SQL                                 |       25642 |   2019 |\n",
      "|  2 | Git                                 |       25130 |   2019 |\n",
      "|  3 | HTML                                |       22142 |   2019 |\n",
      "|  4 | Работа в команде                    |       20011 |   2019 |\n",
      "|  5 | Английский язык                     |       19674 |   2019 |\n",
      "|  6 | CSS                                 |       19588 |   2019 |\n",
      "|  7 | Пользователь ПК                     |       18711 |   2019 |\n",
      "|  8 | Linux                               |       18167 |   2019 |\n",
      "|  9 | Ведение переговоров                 |       18095 |   2019 |\n",
      "| 10 | Управление проектами                |       17963 |   2019 |\n",
      "| 11 | PHP                                 |       17507 |   2019 |\n",
      "| 12 | Java                                |       17146 |   2019 |\n",
      "| 13 | MySQL                               |       16152 |   2019 |\n",
      "| 14 | Грамотная речь                      |       15919 |   2019 |\n",
      "| 15 | Python                              |       14719 |   2019 |\n",
      "| 16 | Активные продажи                    |       12492 |   2019 |\n",
      "| 17 | ООП                                 |       11564 |   2019 |\n",
      "| 18 | Деловая переписка                   |       11237 |   2019 |\n",
      "| 19 | B2B Продажи                         |       11159 |   2019 |\n",
      "|  0 | SQL                                 |       56758 |   2020 |\n",
      "|  1 | Git                                 |       45503 |   2020 |\n",
      "|  2 | Английский язык                     |       43440 |   2020 |\n",
      "|  3 | JavaScript                          |       41344 |   2020 |\n",
      "|  4 | Работа в команде                    |       39116 |   2020 |\n",
      "|  5 | Пользователь ПК                     |       37625 |   2020 |\n",
      "|  6 | Linux                               |       36587 |   2020 |\n",
      "|  7 | Грамотная речь                      |       33884 |   2020 |\n",
      "|  8 | Java                                |       30744 |   2020 |\n",
      "|  9 | HTML                                |       28108 |   2020 |\n",
      "| 10 | Python                              |       28060 |   2020 |\n",
      "| 11 | Управление проектами                |       27749 |   2020 |\n",
      "| 12 | CSS                                 |       25507 |   2020 |\n",
      "| 13 | Активные продажи                    |       23285 |   2020 |\n",
      "| 14 | MS SQL                              |       23201 |   2020 |\n",
      "| 15 | MySQL                               |       22497 |   2020 |\n",
      "| 16 | PostgreSQL                          |       21949 |   2020 |\n",
      "| 17 | Ведение переговоров                 |       21108 |   2020 |\n",
      "| 18 | PHP                                 |       20966 |   2020 |\n",
      "| 19 | ООП                                 |       17810 |   2020 |\n",
      "|  0 | Работа в команде                    |       96443 |   2021 |\n",
      "|  1 | SQL                                 |       96437 |   2021 |\n",
      "|  2 | Английский язык                     |       86374 |   2021 |\n",
      "|  3 | Грамотная речь                      |       77280 |   2021 |\n",
      "|  4 | Git                                 |       74314 |   2021 |\n",
      "|  5 | Пользователь ПК                     |       62080 |   2021 |\n",
      "|  6 | JavaScript                          |       58650 |   2021 |\n",
      "|  7 | Linux                               |       57977 |   2021 |\n",
      "|  8 | Управление проектами                |       51194 |   2021 |\n",
      "|  9 | Python                              |       49885 |   2021 |\n",
      "| 10 | Java                                |       42804 |   2021 |\n",
      "| 11 | HTML                                |       38044 |   2021 |\n",
      "| 12 | PostgreSQL                          |       36157 |   2021 |\n",
      "| 13 | Ведение переговоров                 |       35473 |   2021 |\n",
      "| 14 | Adobe Photoshop                     |       33667 |   2021 |\n",
      "| 15 | CSS                                 |       32965 |   2021 |\n",
      "| 16 | Грамотность                         |       32914 |   2021 |\n",
      "| 17 | Деловое общение                     |       31642 |   2021 |\n",
      "| 18 | Активные продажи                    |       30767 |   2021 |\n",
      "| 19 | MS SQL                              |       30586 |   2021 |\n",
      "|  0 | Работа в команде                    |       92407 |   2022 |\n",
      "|  1 | SQL                                 |       89844 |   2022 |\n",
      "|  2 | Английский язык                     |       70601 |   2022 |\n",
      "|  3 | Git                                 |       67728 |   2022 |\n",
      "|  4 | Linux                               |       57909 |   2022 |\n",
      "|  5 | Пользователь ПК                     |       53029 |   2022 |\n",
      "|  6 | Грамотная речь                      |       47898 |   2022 |\n",
      "|  7 | Python                              |       47841 |   2022 |\n",
      "|  8 | JavaScript                          |       45658 |   2022 |\n",
      "|  9 | Управление проектами                |       45074 |   2022 |\n",
      "| 10 | PostgreSQL                          |       37264 |   2022 |\n",
      "| 11 | Adobe Photoshop                     |       35146 |   2022 |\n",
      "| 12 | Java                                |       34058 |   2022 |\n",
      "| 13 | Техническое обслуживание            |       29316 |   2022 |\n",
      "| 14 | MS PowerPoint                       |       27901 |   2022 |\n",
      "| 15 | 1С программирование                 |       27314 |   2022 |\n",
      "| 16 | HTML                                |       26767 |   2022 |\n",
      "| 17 | Аналитическое мышление              |       26689 |   2022 |\n",
      "| 18 | Грамотность                         |       25888 |   2022 |\n",
      "| 19 | PHP                                 |       25706 |   2022 |\n",
      "|  0 | SQL                                 |       60024 |   2023 |\n",
      "|  1 | Работа в команде                    |       44262 |   2023 |\n",
      "|  2 | Linux                               |       39568 |   2023 |\n",
      "|  3 | Git                                 |       36628 |   2023 |\n",
      "|  4 | Python                              |       34396 |   2023 |\n",
      "|  5 | Грамотная речь                      |       31403 |   2023 |\n",
      "|  6 | PostgreSQL                          |       29261 |   2023 |\n",
      "|  7 | Пользователь ПК                     |       27472 |   2023 |\n",
      "|  8 | Английский язык                     |       26259 |   2023 |\n",
      "|  9 | Управление проектами                |       25857 |   2023 |\n",
      "| 10 | JavaScript                          |       24630 |   2023 |\n",
      "| 11 | Adobe Photoshop                     |       23719 |   2023 |\n",
      "| 12 | Аналитическое мышление              |       23435 |   2023 |\n",
      "| 13 | 1С программирование                 |       21409 |   2023 |\n",
      "| 14 | Работа с большим объемом информации |       20614 |   2023 |\n",
      "| 15 | Java                                |       19954 |   2023 |\n",
      "| 16 | Деловое общение                     |       17955 |   2023 |\n",
      "| 17 | Техническая поддержка               |       17893 |   2023 |\n",
      "| 18 | PHP                                 |       17577 |   2023 |\n",
      "| 19 | Docker                              |       17262 |   2023 |\n"
     ]
    }
   ],
   "source": [
    "# выводим итоговый датафрейм в виде таблицы\n",
    "print(top_skills_by_year.to_markdown())"
   ]
  }
 ],
 "metadata": {
  "kernelspec": {
   "display_name": "Python 3",
   "language": "python",
   "name": "python3"
  },
  "language_info": {
   "codemirror_mode": {
    "name": "ipython",
    "version": 3
   },
   "file_extension": ".py",
   "mimetype": "text/x-python",
   "name": "python",
   "nbconvert_exporter": "python",
   "pygments_lexer": "ipython3",
   "version": "3.11.4"
  },
  "orig_nbformat": 4
 },
 "nbformat": 4,
 "nbformat_minor": 2
}
