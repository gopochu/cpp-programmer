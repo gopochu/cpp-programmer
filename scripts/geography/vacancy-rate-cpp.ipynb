{
 "cells": [
  {
   "cell_type": "code",
   "execution_count": 1,
   "id": "initial_id",
   "metadata": {
    "collapsed": true
   },
   "outputs": [],
   "source": [
    "import pandas as pd"
   ]
  },
  {
   "cell_type": "code",
   "execution_count": 2,
   "id": "a27b9ecb",
   "metadata": {},
   "outputs": [
    {
     "name": "stderr",
     "output_type": "stream",
     "text": [
      "C:\\Users\\vadla\\AppData\\Local\\Temp\\ipykernel_11636\\109238498.py:1: DtypeWarning: Columns (1) have mixed types. Specify dtype option on import or set low_memory=False.\n",
      "  df = pd.read_csv('C:\\Programming\\Django\\Vacancies.csv')\n"
     ]
    }
   ],
   "source": [
    "df = pd.read_csv('C:\\Programming\\Django\\Vacancies.csv')"
   ]
  },
  {
   "cell_type": "code",
   "execution_count": 3,
   "id": "d6d90647",
   "metadata": {},
   "outputs": [],
   "source": [
    "df = df[df['key_skills'].str.contains('c++|с++', na=False, case=False)]"
   ]
  },
  {
   "cell_type": "code",
   "execution_count": 4,
   "id": "e1409dbf",
   "metadata": {},
   "outputs": [],
   "source": [
    "vacancies_per_city = df['area_name'].value_counts()"
   ]
  },
  {
   "cell_type": "code",
   "execution_count": 5,
   "id": "9b088d9d",
   "metadata": {},
   "outputs": [],
   "source": [
    "vacancies_per_city_ratio = vacancies_per_city / vacancies_per_city.sum()"
   ]
  },
  {
   "cell_type": "code",
   "execution_count": 7,
   "id": "2edc1928",
   "metadata": {},
   "outputs": [
    {
     "name": "stdout",
     "output_type": "stream",
     "text": [
      "area_name\n",
      "Москва            0.315\n",
      "Санкт-Петербург   0.108\n",
      "Минск             0.040\n",
      "Новосибирск       0.027\n",
      "Екатеринбург      0.025\n",
      "                   ... \n",
      "Куликовка         0.000\n",
      "Володарка         0.000\n",
      "Лешуконское       0.000\n",
      "Гнивань           0.000\n",
      "Ратомка           0.000\n",
      "Name: count, Length: 4498, dtype: float64\n"
     ]
    }
   ],
   "source": [
    "pd.set_option('display.max_rows', 10)\n",
    "pd.options.display.float_format = '{:.3f}'.format\n",
    "print(vacancies_per_city_ratio)"
   ]
  }
 ],
 "metadata": {
  "kernelspec": {
   "display_name": "Python 3",
   "language": "python",
   "name": "python3"
  },
  "language_info": {
   "codemirror_mode": {
    "name": "ipython",
    "version": 3
   },
   "file_extension": ".py",
   "mimetype": "text/x-python",
   "name": "python",
   "nbconvert_exporter": "python",
   "pygments_lexer": "ipython3",
   "version": "3.11.4"
  }
 },
 "nbformat": 4,
 "nbformat_minor": 5
}
